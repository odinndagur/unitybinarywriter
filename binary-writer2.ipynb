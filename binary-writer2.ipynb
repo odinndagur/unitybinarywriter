{
 "cells": [
  {
   "cell_type": "code",
   "execution_count": 9,
   "metadata": {},
   "outputs": [],
   "source": [
    "from osgeo import gdal, gdal_array\n",
    "from math import sqrt\n",
    "import pandas as pd\n",
    "import os\n",
    "import numpy as np\n",
    "\n",
    "\n",
    "filepath1 = '/Users/odinndagur/Blender/2022/islandsdem-modular-heightmap/data/temp/IslandsDEMv1.0_2x2m_zmasl_isn2016_57_x_4_y_4.tif'\n",
    "filepath = '/Users/odinndagur/Blender/2022/islandsdem-modular-heightmap/data/raw/IslandsDEMv1.0_2x2m_zmasl_isn2016_57.tif' # testa með heilu 25k * 25k tif\n",
    "filepath2 = '/Users/odinndagur/Blender/2022/islandsdem-modular-heightmap/data/temp/IslandsDEMv1.0_2x2m_zmasl_isn2016_57_x_3_y_5.tif'\n",
    "\n",
    "fp = '/Users/odinndagur/Blender/2022/islandsdem-modular-heightmap/data/temp/IslandsDEMv1.0_2x2m_zmasl_isn2016_34_x_0_y_0.tif'\n",
    "fp34 = '/Users/odinndagur/Blender/2022/islandsdem-modular-heightmap/data/raw/IslandsDEMv1.0_2x2m_zmasl_isn2016_34.tif' # testa með heilu 25k * 25k tif\n",
    "fp57 = '/Users/odinndagur/Blender/2022/islandsdem-modular-heightmap/data/raw/IslandsDEMv1.0_2x2m_zmasl_isn2016_57.tif' # testa með heilu 25k * 25k tif\n",
    "fp16 = '/Users/odinndagur/Downloads/IslandsDEMv1.0_2x2m_zmasl_isn2016_16.tif'\n"
   ]
  },
  {
   "cell_type": "code",
   "execution_count": 10,
   "metadata": {},
   "outputs": [
    {
     "name": "stdout",
     "output_type": "stream",
     "text": [
      "Float32\n",
      "-11.112522 1440.0088\n"
     ]
    },
    {
     "data": {
      "text/plain": [
       "numpy.ndarray"
      ]
     },
     "execution_count": 10,
     "metadata": {},
     "output_type": "execute_result"
    }
   ],
   "source": [
    "rasterArray = gdal_array.LoadFile(fp16)\n",
    "raster = gdal.Open(fp16)\n",
    "band = raster.GetRasterBand(1)\n",
    "\n",
    "print(gdal.GetDataTypeName(band.DataType))\n",
    "# Get nodata value from the GDAL band object\n",
    "nodata = band.GetNoDataValue()\n",
    "\n",
    "#Create a masked array for making calculations without nodata values\n",
    "rasterArrayMasked = np.ma.masked_equal(rasterArray, nodata)\n",
    "# Check again array\n",
    "min1 = rasterArrayMasked.min()\n",
    "max1 = rasterArrayMasked.max()\n",
    "print(min1,max1)\n",
    "rasterArray[rasterArray < -100.0] = -100.0\n",
    "type(rasterArray)\n",
    "\n",
    "\n",
    "\n",
    "# df = pd.DataFrame(rasterArray)\n",
    "# heights = df.iloc[:,1:].values"
   ]
  },
  {
   "cell_type": "code",
   "execution_count": 3,
   "metadata": {},
   "outputs": [],
   "source": [
    "with open('test_heights34.dat','wb') as f:\n",
    "    # for arr in heights:\n",
    "    #     for val in arr:\n",
    "    #         f.write(val)\n",
    "    f.write(rasterArray.tobytes())"
   ]
  },
  {
   "cell_type": "code",
   "execution_count": 23,
   "metadata": {},
   "outputs": [],
   "source": [
    "xSize = 251\n",
    "zSize = 251\n",
    "step = 20\n",
    "\n",
    "# [x for x in range(0,xSize * step, step)]\n",
    "for offset in [12000, 18000]:\n",
    "    name = 'xsize_zsize_' + str(xSize) + '_step_' + str(step) + '_offset_' + str(offset)\n",
    "    meshdata = rasterArray[offset:offset + (xSize * step):step,offset:offset + (xSize * step):step]\n",
    "    with open('meshdata/' + name + '.dat', 'wb') as f:\n",
    "        f.write(meshdata.tobytes())\n",
    "# rasterArray[0:19]\n",
    "\n",
    "# void generateBuffersLarge(){\n",
    "#         int buffSize = (xSize + 1) * (zSize + 1);\n",
    "#         buff = new Vector3[buffSize];\n",
    "#         buff2 = new Vector3[buffSize];\n",
    "\n",
    "#         int step = 20;\n",
    "        \n",
    "#         for (int i = 0, z =0; z<= zSize * step; z+= step)\n",
    "#         {\n",
    "#             for (int x = 0; x<=xSize * step; x+= step)\n",
    "#             {\n",
    "#                 float y = get_height(xoff + x, zoff + z);\n",
    "#                 buff[i] = new Vector3(x, y, z);\n",
    "#                 y = get_height(xoff + xSize + x, zoff + zSize + z);\n",
    "#                 buff2[i] = new Vector3(x, y, z);\n",
    "#                 i++;\n",
    "#             }\n",
    "#         }"
   ]
  },
  {
   "cell_type": "code",
   "execution_count": 16,
   "metadata": {},
   "outputs": [
    {
     "name": "stdout",
     "output_type": "stream",
     "text": [
      "islandsdem16_5000x5000_stepsize_5_float32\n"
     ]
    }
   ],
   "source": [
    "xSize = 251\n",
    "zSize = 251\n",
    "\n",
    "# [x for x in range(0,xSize * step, step)]\n",
    "# name = 'xsize_zsize_' + str(xSize) + '_step_' + str(step) + '_offset_' + str(offset)\n",
    "name = 'islandsdem16'\n",
    "start, end, step = 0, 25000, 5\n",
    "resolution = int((end - start) / step)\n",
    "meshdata = rasterArray[start:end:step,start:end:step]\n",
    "# print(len(meshdata),len(meshdata[0]))\n",
    "name = \"{}_{}x{}_stepsize_{}_float32\".format(name,resolution,resolution,step)\n",
    "print(name)\n",
    "with open('meshdata/' + name + '.dat', 'wb') as f:\n",
    "    f.write(meshdata.tobytes())"
   ]
  },
  {
   "cell_type": "code",
   "execution_count": null,
   "metadata": {},
   "outputs": [],
   "source": [
    "txt3 = \"My name is {}, I'm {}\".format(\"John\",36)"
   ]
  }
 ],
 "metadata": {
  "interpreter": {
   "hash": "d109753ea89e3f4bbe1552e02afea7d2f34d15b6d7fbe939a9fcac2f461ceae9"
  },
  "kernelspec": {
   "display_name": "Python 3.9.10 ('base')",
   "language": "python",
   "name": "python3"
  },
  "language_info": {
   "codemirror_mode": {
    "name": "ipython",
    "version": 3
   },
   "file_extension": ".py",
   "mimetype": "text/x-python",
   "name": "python",
   "nbconvert_exporter": "python",
   "pygments_lexer": "ipython3",
   "version": "3.9.10"
  },
  "orig_nbformat": 4
 },
 "nbformat": 4,
 "nbformat_minor": 2
}
