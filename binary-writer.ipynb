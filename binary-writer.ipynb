{
 "cells": [
  {
   "cell_type": "code",
   "execution_count": 1,
   "metadata": {},
   "outputs": [],
   "source": [
    "from osgeo import gdal, gdal_array\n",
    "from math import sqrt\n",
    "import pandas as pd\n",
    "import os\n",
    "import numpy as np\n",
    "\n",
    "\n",
    "filepath1 = '/Users/odinndagur/Blender/2022/islandsdem-modular-heightmap/data/temp/IslandsDEMv1.0_2x2m_zmasl_isn2016_57_x_4_y_4.tif'\n",
    "filepath = '/Users/odinndagur/Blender/2022/islandsdem-modular-heightmap/data/raw/IslandsDEMv1.0_2x2m_zmasl_isn2016_57.tif' # testa með heilu 25k * 25k tif\n",
    "filepath2 = '/Users/odinndagur/Blender/2022/islandsdem-modular-heightmap/data/temp/IslandsDEMv1.0_2x2m_zmasl_isn2016_57_x_3_y_5.tif'\n",
    "\n",
    "fp = '/Users/odinndagur/Blender/2022/islandsdem-modular-heightmap/data/temp/IslandsDEMv1.0_2x2m_zmasl_isn2016_34_x_0_y_0.tif'"
   ]
  },
  {
   "cell_type": "code",
   "execution_count": 22,
   "metadata": {},
   "outputs": [
    {
     "name": "stdout",
     "output_type": "stream",
     "text": [
      "Float32\n",
      "-8.28521 71.24989\n"
     ]
    }
   ],
   "source": [
    "filepath = '/Users/odinndagur/Blender/2022/islandsdem-modular-heightmap/data/temp/IslandsDEMv1.0_2x2m_zmasl_isn2016_57_x_3_y_5.tif'\n",
    "rasterArray = gdal_array.LoadFile(filepath)\n",
    "raster = gdal.Open(filepath)\n",
    "band = raster.GetRasterBand(1)\n",
    "\n",
    "print(gdal.GetDataTypeName(band.DataType))\n",
    "# Get nodata value from the GDAL band object\n",
    "nodata = band.GetNoDataValue()\n",
    "\n",
    "#Create a masked array for making calculations without nodata values\n",
    "rasterArray = np.ma.masked_equal(rasterArray, nodata)\n",
    "type(rasterArray)\n",
    "\n",
    "# Check again array\n",
    "min1 = rasterArray.min()\n",
    "max1 = rasterArray.max()\n",
    "print(min1,max1)\n",
    "\n",
    "\n",
    "df = pd.DataFrame(rasterArray)\n",
    "heights = df.iloc[:,1:].values"
   ]
  },
  {
   "cell_type": "code",
   "execution_count": 23,
   "metadata": {},
   "outputs": [],
   "source": [
    "with open('heights3.dat','wb') as f:\n",
    "    f.write(heights.tobytes())\n",
    "# heights.tobytes()"
   ]
  },
  {
   "cell_type": "code",
   "execution_count": 28,
   "metadata": {},
   "outputs": [
    {
     "ename": "ValueError",
     "evalue": "could not convert string to float: b'\\x00\\x00\\xc0\\x7f'",
     "output_type": "error",
     "traceback": [
      "\u001b[0;31m---------------------------------------------------------------------------\u001b[0m",
      "\u001b[0;31mValueError\u001b[0m                                Traceback (most recent call last)",
      "\u001b[1;32m/Users/odinndagur/Code/Github/binary_writer_py/binary-writer.ipynb Cell 4'\u001b[0m in \u001b[0;36m<module>\u001b[0;34m\u001b[0m\n\u001b[1;32m      <a href='vscode-notebook-cell:/Users/odinndagur/Code/Github/binary_writer_py/binary-writer.ipynb#ch0000002?line=1'>2</a>\u001b[0m \u001b[39mlen\u001b[39m(heights[\u001b[39m0\u001b[39m])\n\u001b[1;32m      <a href='vscode-notebook-cell:/Users/odinndagur/Code/Github/binary_writer_py/binary-writer.ipynb#ch0000002?line=3'>4</a>\u001b[0m \u001b[39mwith\u001b[39;00m \u001b[39mopen\u001b[39m(\u001b[39m'\u001b[39m\u001b[39mheights3.dat\u001b[39m\u001b[39m'\u001b[39m,\u001b[39m'\u001b[39m\u001b[39mrb\u001b[39m\u001b[39m'\u001b[39m) \u001b[39mas\u001b[39;00m f:\n\u001b[0;32m----> <a href='vscode-notebook-cell:/Users/odinndagur/Code/Github/binary_writer_py/binary-writer.ipynb#ch0000002?line=4'>5</a>\u001b[0m     \u001b[39mprint\u001b[39m(\u001b[39mfloat\u001b[39;49m(f\u001b[39m.\u001b[39;49mread(\u001b[39m4\u001b[39;49m)))\n",
      "\u001b[0;31mValueError\u001b[0m: could not convert string to float: b'\\x00\\x00\\xc0\\x7f'"
     ]
    }
   ],
   "source": [
    "# str(heights[5][4]) == 'nan'\n",
    "len(heights[0])\n",
    "\n",
    "with open('heights3.dat','rb') as f:\n",
    "    print(float(f.read(4)))"
   ]
  },
  {
   "cell_type": "code",
   "execution_count": null,
   "metadata": {},
   "outputs": [],
   "source": [
    "#Load test data\n",
    "f=open (\"filename\", \"rb\")\n",
    "#102500 is the number of digits contained in the document.\n",
    "And a floating point number takes 4 bytes\n",
    "data_raw=struct.unpack (\"f\" * 102500, f.read (4 * 102500))\n",
    "f.close ()\n",
    "verify_data=np.asarray (verify_data_raw) .reshape (-1,1025)"
   ]
  },
  {
   "cell_type": "code",
   "execution_count": 37,
   "metadata": {},
   "outputs": [
    {
     "data": {
      "text/plain": [
       "True"
      ]
     },
     "execution_count": 37,
     "metadata": {},
     "output_type": "execute_result"
    }
   ],
   "source": [
    "import struct\n",
    "with open('heights4.dat','rb') as f:\n",
    "    data_raw = struct.unpack(\"f\" * 2500 * 2499, f.read(4 * 2500 * 2499))\n",
    "for val in data_raw:\n",
    "    if str(val) != 'nan':\n",
    "        print()"
   ]
  },
  {
   "cell_type": "code",
   "execution_count": 33,
   "metadata": {},
   "outputs": [],
   "source": [
    "f = open('heights4.dat', 'wb')\n",
    "for arr in heights:\n",
    "    for val in arr:\n",
    "        f.write(val)\n",
    "f.close()\n",
    "\n",
    "\n",
    "# In [38]: f=open('sin.dat', 'wb')\n",
    "\n",
    "# In [39]: f.write(x)\n",
    "\n",
    "# In [40]: f.write(sin(x))\n",
    "\n",
    "# In [41]: f.close()"
   ]
  },
  {
   "cell_type": "code",
   "execution_count": 13,
   "metadata": {},
   "outputs": [
    {
     "data": {
      "text/plain": [
       "110.33245"
      ]
     },
     "execution_count": 13,
     "metadata": {},
     "output_type": "execute_result"
    }
   ],
   "source": [
    "heights[0][24998]"
   ]
  },
  {
   "cell_type": "code",
   "execution_count": 14,
   "metadata": {},
   "outputs": [],
   "source": [
    "import struct\n",
    "\n",
    "f = open('heights.dat', 'rb')\n",
    "\n",
    "heights = f.read(25000*24999*4)"
   ]
  },
  {
   "cell_type": "code",
   "execution_count": 19,
   "metadata": {},
   "outputs": [
    {
     "ename": "TypeError",
     "evalue": "'module' object is not callable",
     "output_type": "error",
     "traceback": [
      "\u001b[0;31m---------------------------------------------------------------------------\u001b[0m",
      "\u001b[0;31mTypeError\u001b[0m                                 Traceback (most recent call last)",
      "\u001b[1;32m/Users/odinndagur/Code/Github/binary_writer_py/binary-writer.ipynb Cell 7'\u001b[0m in \u001b[0;36m<module>\u001b[0;34m\u001b[0m\n\u001b[1;32m      <a href='vscode-notebook-cell:/Users/odinndagur/Code/Github/binary_writer_py/binary-writer.ipynb#ch0000009?line=0'>1</a>\u001b[0m \u001b[39mimport\u001b[39;00m \u001b[39marray\u001b[39;00m\n\u001b[0;32m----> <a href='vscode-notebook-cell:/Users/odinndagur/Code/Github/binary_writer_py/binary-writer.ipynb#ch0000009?line=1'>2</a>\u001b[0m arr \u001b[39m=\u001b[39m array(struct\u001b[39m.\u001b[39;49munpack(\u001b[39m'\u001b[39;49m\u001b[39mf\u001b[39;49m\u001b[39m'\u001b[39;49m\u001b[39m*\u001b[39;49m\u001b[39m25000\u001b[39;49m\u001b[39m*\u001b[39;49m\u001b[39m24999\u001b[39;49m,heights))\n",
      "\u001b[0;31mTypeError\u001b[0m: 'module' object is not callable"
     ]
    }
   ],
   "source": [
    "import array\n",
    "arr = array(struct.unpack('f'*25000*24999,heights))"
   ]
  },
  {
   "cell_type": "code",
   "execution_count": null,
   "metadata": {},
   "outputs": [],
   "source": []
  }
 ],
 "metadata": {
  "interpreter": {
   "hash": "d109753ea89e3f4bbe1552e02afea7d2f34d15b6d7fbe939a9fcac2f461ceae9"
  },
  "kernelspec": {
   "display_name": "jcv",
   "language": "python",
   "name": "jcv"
  },
  "language_info": {
   "codemirror_mode": {
    "name": "ipython",
    "version": 3
   },
   "file_extension": ".py",
   "mimetype": "text/x-python",
   "name": "python",
   "nbconvert_exporter": "python",
   "pygments_lexer": "ipython3",
   "version": "3.9.10"
  },
  "orig_nbformat": 4
 },
 "nbformat": 4,
 "nbformat_minor": 2
}
